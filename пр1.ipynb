{
  "nbformat": 4,
  "nbformat_minor": 0,
  "metadata": {
    "colab": {
      "provenance": [],
      "include_colab_link": true
    },
    "kernelspec": {
      "name": "python3",
      "display_name": "Python 3"
    },
    "language_info": {
      "name": "python"
    }
  },
  "cells": [
    {
      "cell_type": "markdown",
      "metadata": {
        "id": "view-in-github",
        "colab_type": "text"
      },
      "source": [
        "<a href=\"https://colab.research.google.com/github/DianaShramchenko/data_mining/blob/main/%D0%BF%D1%801.ipynb\" target=\"_parent\"><img src=\"https://colab.research.google.com/assets/colab-badge.svg\" alt=\"Open In Colab\"/></a>"
      ]
    },
    {
      "cell_type": "markdown",
      "source": [
        "# Практическая работа №2. Библиотека Numpy"
      ],
      "metadata": {
        "id": "UWwDMeEJKRm-"
      }
    },
    {
      "cell_type": "markdown",
      "source": [
        "## Полезные материалы\n",
        "- [Блокнот с полной теорией](https://colab.research.google.com/drive/1JlqwrIRsmnc9rW6Tj1XNgrtk--43dKvT?usp=sharing)\n",
        "- [Блокнот с краткой теорией](https://colab.research.google.com/drive/1elIYEseXIidm5UUXnjgzWUehisw_OQ0w?usp=sharing)\n",
        "- [Шпаргалка по numpy](https://s3.amazonaws.com/assets.datacamp.com/blog_assets/Numpy_Python_Cheat_Sheet.pdf)\n",
        "- [Numpy quick start](https://docs.scipy.org/doc/numpy/user/quickstart.html)\n",
        "- [Datacamp numpy tutorial](https://www.datacamp.com/community/tutorials/python-numpy-tutorial)"
      ],
      "metadata": {
        "id": "9jGLF6idKPrn"
      }
    },
    {
      "cell_type": "markdown",
      "source": [
        "## **Блок №1. Базовый уровень**"
      ],
      "metadata": {
        "id": "mVaRu-_wJJYV"
      }
    },
    {
      "cell_type": "markdown",
      "source": [
        "Установите зависимость с библиотекой NumPy:"
      ],
      "metadata": {
        "id": "gAEs6SaMMmzx"
      }
    },
    {
      "cell_type": "code",
      "source": [
        "import numpy as np"
      ],
      "metadata": {
        "id": "GqZb9OydMn0V"
      },
      "execution_count": 1,
      "outputs": []
    },
    {
      "cell_type": "markdown",
      "source": [
        "### **Задание №1. Создание массивов:**"
      ],
      "metadata": {
        "id": "JK4lWYl2OAKA"
      }
    },
    {
      "cell_type": "markdown",
      "source": [
        "а) Создайте одномерный массив из 10 нулей:\n"
      ],
      "metadata": {
        "id": "tlxGmZzNN_B3"
      }
    },
    {
      "cell_type": "code",
      "source": [
        "# 1V\n",
        "zeros_array = np.zeros((1, 10))\n",
        "print(\"\\nV1:\\n\", zeros_array)\n",
        "\n",
        "# 2V\n",
        "zeros = np.full((1, 10), 0)\n",
        "print(\"\\nV2:\\n\", zeros)"
      ],
      "metadata": {
        "id": "_dv6zFBzN_PH",
        "colab": {
          "base_uri": "https://localhost:8080/"
        },
        "outputId": "b9ca9530-938b-4cb1-b49d-f72c4a85f8f2"
      },
      "execution_count": 2,
      "outputs": [
        {
          "output_type": "stream",
          "name": "stdout",
          "text": [
            "\n",
            "V1:\n",
            " [[0. 0. 0. 0. 0. 0. 0. 0. 0. 0.]]\n",
            "\n",
            "V2:\n",
            " [[0 0 0 0 0 0 0 0 0 0]]\n"
          ]
        }
      ]
    },
    {
      "cell_type": "markdown",
      "source": [
        "б) Создайте двумерный массив с размерностью 5x5, заполненный единицами:"
      ],
      "metadata": {
        "id": "lE5txzg1N_YO"
      }
    },
    {
      "cell_type": "code",
      "source": [
        "# 1V\n",
        "one_array = np.ones((5, 5))\n",
        "print(\"\\nones:\\n\", one_array)\n",
        "# 2V\n",
        "one = np.full((5, 5), 1)\n",
        "print(\"\\nV2:\\n\", one)"
      ],
      "metadata": {
        "id": "TCCsY7EJN_hY",
        "colab": {
          "base_uri": "https://localhost:8080/"
        },
        "outputId": "f7d9be10-b03a-467f-bf03-02e6f774c5b4"
      },
      "execution_count": 3,
      "outputs": [
        {
          "output_type": "stream",
          "name": "stdout",
          "text": [
            "\n",
            "ones:\n",
            " [[1. 1. 1. 1. 1.]\n",
            " [1. 1. 1. 1. 1.]\n",
            " [1. 1. 1. 1. 1.]\n",
            " [1. 1. 1. 1. 1.]\n",
            " [1. 1. 1. 1. 1.]]\n",
            "\n",
            "V2:\n",
            " [[1 1 1 1 1]\n",
            " [1 1 1 1 1]\n",
            " [1 1 1 1 1]\n",
            " [1 1 1 1 1]\n",
            " [1 1 1 1 1]]\n"
          ]
        }
      ]
    },
    {
      "cell_type": "markdown",
      "source": [
        "в) Создайте массив с размерностью 3x3x3 со случайными значениями:"
      ],
      "metadata": {
        "id": "ewdOYjTSN_p-"
      }
    },
    {
      "cell_type": "code",
      "source": [
        "array = np.random.randint(1, 100, size=(3, 3, 3))\n",
        "print(\"Массив случайных целых чисел:\\n\", array)"
      ],
      "metadata": {
        "id": "UT2FWQ8jN_zE",
        "colab": {
          "base_uri": "https://localhost:8080/"
        },
        "outputId": "8807d34f-7923-4419-dbad-99eb59ad50f7"
      },
      "execution_count": 4,
      "outputs": [
        {
          "output_type": "stream",
          "name": "stdout",
          "text": [
            "Массив случайных целых чисел:\n",
            " [[[66 76 69]\n",
            "  [31 23 49]\n",
            "  [37 27 89]]\n",
            "\n",
            " [[95 80 63]\n",
            "  [41 85 56]\n",
            "  [83 38 30]]\n",
            "\n",
            " [[20 13 86]\n",
            "  [39 46 31]\n",
            "  [76 44 72]]]\n"
          ]
        }
      ]
    },
    {
      "cell_type": "markdown",
      "source": [
        "### **Задание №2. Индексация и срезы:**"
      ],
      "metadata": {
        "id": "tU02ZhoCTWlS"
      }
    },
    {
      "cell_type": "markdown",
      "source": [
        "а) Извлеките второй элемент из созданного одномерного массива нулей:"
      ],
      "metadata": {
        "id": "28eFhkdPTXHL"
      }
    },
    {
      "cell_type": "code",
      "source": [
        "take_array = np.take(zeros, [1])\n",
        "print(take_array)"
      ],
      "metadata": {
        "id": "nwpFpMOMTXP5",
        "colab": {
          "base_uri": "https://localhost:8080/"
        },
        "outputId": "273d99cd-ffe3-495a-b526-b17c13e0f7e8"
      },
      "execution_count": 5,
      "outputs": [
        {
          "output_type": "stream",
          "name": "stdout",
          "text": [
            "[0]\n"
          ]
        }
      ]
    },
    {
      "cell_type": "markdown",
      "source": [
        "б) Выберите вторую строку из двумерного массива единиц:"
      ],
      "metadata": {
        "id": "8WHTy4tBTXZP"
      }
    },
    {
      "cell_type": "code",
      "source": [
        "row_2 = one[1]\n",
        "print(\"Вторая строка:\\n\", row_2)\n"
      ],
      "metadata": {
        "id": "V1P2NYcCTXhm",
        "colab": {
          "base_uri": "https://localhost:8080/"
        },
        "outputId": "0eb09acd-e470-4c90-9c6e-f40dba0d1a90"
      },
      "execution_count": 6,
      "outputs": [
        {
          "output_type": "stream",
          "name": "stdout",
          "text": [
            "Вторая строка:\n",
            " [1 1 1 1 1]\n"
          ]
        }
      ]
    },
    {
      "cell_type": "markdown",
      "source": [
        "в) Получите первые два элемента каждой строки из двумерного массива единиц:"
      ],
      "metadata": {
        "id": "5KgLWq-dTXqb"
      }
    },
    {
      "cell_type": "code",
      "source": [
        "row_2_2 = one[:, :2]\n",
        "print(\"Вторая строка:\\n\", row_2_2)"
      ],
      "metadata": {
        "id": "4WcPrgnPTXzU",
        "colab": {
          "base_uri": "https://localhost:8080/"
        },
        "outputId": "219fe68a-77f1-4c9a-88b7-4b91b6feb5d5"
      },
      "execution_count": 7,
      "outputs": [
        {
          "output_type": "stream",
          "name": "stdout",
          "text": [
            "Вторая строка:\n",
            " [[1 1]\n",
            " [1 1]\n",
            " [1 1]\n",
            " [1 1]\n",
            " [1 1]]\n"
          ]
        }
      ]
    },
    {
      "cell_type": "markdown",
      "source": [
        "### **Задание №3. Операции над массивами:**"
      ],
      "metadata": {
        "id": "FgQeTh6HT0IS"
      }
    },
    {
      "cell_type": "markdown",
      "source": [
        "   а) Прибавьте 10 ко всем элементам одномерного массива нулей:\n"
      ],
      "metadata": {
        "id": "F82FPZACT5oN"
      }
    },
    {
      "cell_type": "code",
      "source": [
        "b_10 = np.array([10])\n",
        "add = np.add(zeros, b_10)\n",
        "print(add)"
      ],
      "metadata": {
        "id": "m9fI1QqDT0Rt",
        "colab": {
          "base_uri": "https://localhost:8080/"
        },
        "outputId": "06d35826-3eba-4326-aa71-d34aab038380"
      },
      "execution_count": 8,
      "outputs": [
        {
          "output_type": "stream",
          "name": "stdout",
          "text": [
            "[[10 10 10 10 10 10 10 10 10 10]]\n"
          ]
        }
      ]
    },
    {
      "cell_type": "markdown",
      "source": [
        "   б) Умножьте каждый элемент двумерного массива единиц на 3:\n"
      ],
      "metadata": {
        "id": "gpQNryfsT0cG"
      }
    },
    {
      "cell_type": "code",
      "source": [
        "b_3 = np.array([3])\n",
        "multiply = np.multiply(one, b_3)\n",
        "print(multiply)"
      ],
      "metadata": {
        "id": "R12ZIAB2T0uf",
        "colab": {
          "base_uri": "https://localhost:8080/"
        },
        "outputId": "d781d757-dffb-440f-c8ce-e70d569f47d5"
      },
      "execution_count": 9,
      "outputs": [
        {
          "output_type": "stream",
          "name": "stdout",
          "text": [
            "[[3 3 3 3 3]\n",
            " [3 3 3 3 3]\n",
            " [3 3 3 3 3]\n",
            " [3 3 3 3 3]\n",
            " [3 3 3 3 3]]\n"
          ]
        }
      ]
    },
    {
      "cell_type": "markdown",
      "source": [
        "   в) Вычислите сумму всех элементов в массиве 3x3x3 со случайными значениями:"
      ],
      "metadata": {
        "id": "8SqSUA7WT04G"
      }
    },
    {
      "cell_type": "code",
      "source": [
        "sum = np.sum(array)\n",
        "print(sum)"
      ],
      "metadata": {
        "id": "kaeUhPVwT1CH",
        "colab": {
          "base_uri": "https://localhost:8080/"
        },
        "outputId": "e1e649e4-674a-40ee-cda2-bfea0c56842b"
      },
      "execution_count": 10,
      "outputs": [
        {
          "output_type": "stream",
          "name": "stdout",
          "text": [
            "1465\n"
          ]
        }
      ]
    },
    {
      "cell_type": "markdown",
      "source": [
        "### **Задание №4. Использование функций и методов NumPy:**\n"
      ],
      "metadata": {
        "id": "HXn8PQr9T1NU"
      }
    },
    {
      "cell_type": "markdown",
      "source": [
        "   а) Найдите максимальное и минимальное значения в массиве 3x3x3:\n"
      ],
      "metadata": {
        "id": "oaxWxrQRUkEU"
      }
    },
    {
      "cell_type": "code",
      "source": [
        "max = np.max(array)\n",
        "min = np.min(array)\n",
        "print(\"массив:\\n\", array)\n",
        "print(\"максимальное значение:\", max)\n",
        "print(\"минимальное значение:\", min)"
      ],
      "metadata": {
        "id": "PERZ4zSHUldF",
        "colab": {
          "base_uri": "https://localhost:8080/"
        },
        "outputId": "6ec66599-754e-44ad-d8ae-6f5e6bb98a4c"
      },
      "execution_count": 11,
      "outputs": [
        {
          "output_type": "stream",
          "name": "stdout",
          "text": [
            "массив:\n",
            " [[[66 76 69]\n",
            "  [31 23 49]\n",
            "  [37 27 89]]\n",
            "\n",
            " [[95 80 63]\n",
            "  [41 85 56]\n",
            "  [83 38 30]]\n",
            "\n",
            " [[20 13 86]\n",
            "  [39 46 31]\n",
            "  [76 44 72]]]\n",
            "максимальное значение: 95\n",
            "минимальное значение: 13\n"
          ]
        }
      ]
    },
    {
      "cell_type": "markdown",
      "source": [
        "   б) Вычислите среднее значение всех элементов в одномерном массиве нулей после добавления к ним числа 10:\n"
      ],
      "metadata": {
        "id": "EayPENXwUlms"
      }
    },
    {
      "cell_type": "code",
      "source": [
        "mean_val = np.mean(add)\n",
        "print(\"Среднее значение:\", mean_val)"
      ],
      "metadata": {
        "id": "iJNG1XfCUlzN",
        "colab": {
          "base_uri": "https://localhost:8080/"
        },
        "outputId": "cab851d0-f919-455e-8fed-1938662515e9"
      },
      "execution_count": 12,
      "outputs": [
        {
          "output_type": "stream",
          "name": "stdout",
          "text": [
            "Среднее значение: 10.0\n"
          ]
        }
      ]
    },
    {
      "cell_type": "markdown",
      "source": [
        "   в) Используйте функцию `np.reshape` для изменения формы одномерного массива нулей в двумерный массив 2x5:"
      ],
      "metadata": {
        "id": "3z_yaICNUl7R"
      }
    },
    {
      "cell_type": "code",
      "source": [
        "print(\"Исходный массив:\", zeros)\n",
        "reshaped_arr = np.reshape(zeros, (2, 5))\n",
        "print(\"Массив после преобразования:\\n\", reshaped_arr)"
      ],
      "metadata": {
        "id": "ioynkOn4T1XS",
        "colab": {
          "base_uri": "https://localhost:8080/"
        },
        "outputId": "315a6191-160b-4805-e426-d865527c2b18"
      },
      "execution_count": 13,
      "outputs": [
        {
          "output_type": "stream",
          "name": "stdout",
          "text": [
            "Исходный массив: [[0 0 0 0 0 0 0 0 0 0]]\n",
            "Массив после преобразования:\n",
            " [[0 0 0 0 0]\n",
            " [0 0 0 0 0]]\n"
          ]
        }
      ]
    },
    {
      "cell_type": "markdown",
      "source": [
        "### **Задание №5. Логическая индексация:**"
      ],
      "metadata": {
        "id": "helc8jP2XVZx"
      }
    },
    {
      "cell_type": "markdown",
      "source": [
        "а) Создайте двумерный массив 4x4 со случайными целыми числами от 0 до 100. Затем выберите из этого массива все элементы, которые больше 70:"
      ],
      "metadata": {
        "id": "p6zDSpnvXlz9"
      }
    },
    {
      "cell_type": "code",
      "source": [
        "array_5 = np.random.randint(0, 101, size=(4, 4))\n",
        "print(\"Массив случайных целых чисел:\\n\", array_5)\n",
        "# Задаем критерий для фильтрации: выбираем элементы, которые больше 70\n",
        "condition = array_5 > 70\n",
        "# Применяем логическую индексацию для выбора элементов, удовлетворяющих условию\n",
        "filtered_arr = array_5[condition]\n",
        "print(\"Отфильтрованный массив (элементы > 70):\\n\", filtered_arr)"
      ],
      "metadata": {
        "id": "93u2gqeqXlQP",
        "colab": {
          "base_uri": "https://localhost:8080/"
        },
        "outputId": "e5529be9-0144-459b-a751-25e377205daa"
      },
      "execution_count": 14,
      "outputs": [
        {
          "output_type": "stream",
          "name": "stdout",
          "text": [
            "Массив случайных целых чисел:\n",
            " [[22 67 16 38]\n",
            " [74 93 10  7]\n",
            " [ 0 75 43 65]\n",
            " [91 63 32 39]]\n",
            "Отфильтрованный массив (элементы > 70):\n",
            " [74 93 75 91]\n"
          ]
        }
      ]
    },
    {
      "cell_type": "markdown",
      "source": [
        "б) Значения элементов, которые меньше 50, замените на 0:"
      ],
      "metadata": {
        "id": "l1i_sIHzXn5W"
      }
    },
    {
      "cell_type": "code",
      "source": [
        "array_5[array_5<50] = 0\n",
        "print(\"Массив после замены элементов, которые меньше 50, на 0:\\n\", array_5)"
      ],
      "metadata": {
        "id": "iWzeoWw1Xhxw",
        "colab": {
          "base_uri": "https://localhost:8080/"
        },
        "outputId": "b24a9a02-721a-45fb-d545-a39a5bc5492d"
      },
      "execution_count": 15,
      "outputs": [
        {
          "output_type": "stream",
          "name": "stdout",
          "text": [
            "Массив после замены элементов, которые меньше 50, на 0:\n",
            " [[ 0 67  0  0]\n",
            " [74 93  0  0]\n",
            " [ 0 75  0 65]\n",
            " [91 63  0  0]]\n"
          ]
        }
      ]
    },
    {
      "cell_type": "markdown",
      "source": [
        "### **Задание №6. Линейная алгебра:**"
      ],
      "metadata": {
        "id": "NJ1lWy6-N5m_"
      }
    },
    {
      "cell_type": "markdown",
      "source": [
        "   а) Создайте два массива размером 3x3 и выполните их матричное умножение:\n"
      ],
      "metadata": {
        "id": "jaQIn50xLamu"
      }
    },
    {
      "cell_type": "code",
      "source": [
        "a = np.random.randint(0, 31, size=(3, 3))\n",
        "d = np.random.randint(0, 31, size=(3, 3))\n",
        "m = np.dot(a, d)\n",
        "print(\"массив 1:\\n\", a)\n",
        "print(\"массив 2:\\n\",d)\n",
        "print(\"матричное умножение:\\n\", m)"
      ],
      "metadata": {
        "id": "g6eIJi9gLZpP",
        "colab": {
          "base_uri": "https://localhost:8080/"
        },
        "outputId": "b817b3d2-1565-4fd4-d24e-411b3b1fb803"
      },
      "execution_count": 16,
      "outputs": [
        {
          "output_type": "stream",
          "name": "stdout",
          "text": [
            "массив 1:\n",
            " [[17 23 21]\n",
            " [ 9  9 17]\n",
            " [24  1 27]]\n",
            "массив 2:\n",
            " [[26  5 18]\n",
            " [ 0 24 17]\n",
            " [21 15 16]]\n",
            "матричное умножение:\n",
            " [[ 883  952 1033]\n",
            " [ 591  516  587]\n",
            " [1191  549  881]]\n"
          ]
        }
      ]
    },
    {
      "cell_type": "markdown",
      "source": [
        "   б) Найдите обратную матрицу для созданного двумерного массива 3x3:"
      ],
      "metadata": {
        "id": "sU9iKaD4LZ9y"
      }
    },
    {
      "cell_type": "code",
      "execution_count": 17,
      "metadata": {
        "id": "FOvGFepkJEcl",
        "colab": {
          "base_uri": "https://localhost:8080/"
        },
        "outputId": "bff20111-7ddf-45c1-9f9e-f6355c0926d6"
      },
      "outputs": [
        {
          "output_type": "stream",
          "name": "stdout",
          "text": [
            "обратная матрица:\n",
            " [[-0.010227    0.02098949 -0.00199357]\n",
            " [-0.01379072  0.03496098 -0.00712404]\n",
            " [ 0.02241937 -0.05016125  0.00826952]]\n"
          ]
        }
      ],
      "source": [
        "inv_A = np.linalg.inv(m)\n",
        "print(\"обратная матрица:\\n\", inv_A)"
      ]
    },
    {
      "cell_type": "markdown",
      "source": [
        "## **Блок №2. Средний уровень**"
      ],
      "metadata": {
        "id": "S_uDFvYKLIne"
      }
    },
    {
      "cell_type": "markdown",
      "source": [
        "### **Задание №1. Работа с многомерными массивами:**\n",
        "   \n"
      ],
      "metadata": {
        "id": "qn-Boi-YZIpm"
      }
    },
    {
      "cell_type": "markdown",
      "source": [
        "а) Создайте трехмерный массив со случайными целыми числами и выполните транспонирование так, чтобы порядок осей стал обратным:"
      ],
      "metadata": {
        "id": "JOXkzj-tZ94e"
      }
    },
    {
      "cell_type": "code",
      "source": [
        "arr = np.random.randint(1, 100, size=(3, 3, 3))\n",
        "print(\"Массив случайных целых чисел:\\n\", arr)\n",
        "# Меняем местами оси\n",
        "transposed = np.transpose(arr)\n",
        "print(\"Транспонированный массив:\\n\", transposed)"
      ],
      "metadata": {
        "id": "ioFsaDNUZ7ns",
        "colab": {
          "base_uri": "https://localhost:8080/"
        },
        "outputId": "a0ec991e-4da5-4948-bc69-c7cd3a58661e"
      },
      "execution_count": 18,
      "outputs": [
        {
          "output_type": "stream",
          "name": "stdout",
          "text": [
            "Массив случайных целых чисел:\n",
            " [[[66  5 95]\n",
            "  [17 99 44]\n",
            "  [98 34 71]]\n",
            "\n",
            " [[22 71 47]\n",
            "  [17 88 65]\n",
            "  [14 87  3]]\n",
            "\n",
            " [[27 60 52]\n",
            "  [ 5 58 22]\n",
            "  [10 29  7]]]\n",
            "Транспонированный массив:\n",
            " [[[66 22 27]\n",
            "  [17 17  5]\n",
            "  [98 14 10]]\n",
            "\n",
            " [[ 5 71 60]\n",
            "  [99 88 58]\n",
            "  [34 87 29]]\n",
            "\n",
            " [[95 47 52]\n",
            "  [44 65 22]\n",
            "  [71  3  7]]]\n"
          ]
        }
      ]
    },
    {
      "cell_type": "markdown",
      "source": [
        "   б) Измените форму массива из предыдущего пункта так, чтобы получился двумерный массив (подумайте, как сохранить данные без потерь):"
      ],
      "metadata": {
        "id": "yKdG54bWZi_c"
      }
    },
    {
      "cell_type": "code",
      "source": [
        "reshaped_transposed = np.reshape(transposed, (9, 3))\n",
        "print(\"Массив после преобразования:\\n\", reshaped_transposed)"
      ],
      "metadata": {
        "id": "w58gedcvZjVH",
        "colab": {
          "base_uri": "https://localhost:8080/"
        },
        "outputId": "03538e5b-82c6-4ef9-8803-61e7f1c9ec3b"
      },
      "execution_count": 19,
      "outputs": [
        {
          "output_type": "stream",
          "name": "stdout",
          "text": [
            "Массив после преобразования:\n",
            " [[66 22 27]\n",
            " [17 17  5]\n",
            " [98 14 10]\n",
            " [ 5 71 60]\n",
            " [99 88 58]\n",
            " [34 87 29]\n",
            " [95 47 52]\n",
            " [44 65 22]\n",
            " [71  3  7]]\n"
          ]
        }
      ]
    },
    {
      "cell_type": "markdown",
      "source": [
        "```python\n",
        "# Входные данные:\n",
        "[\n",
        "  [\n",
        "    [1, 2, 3, 4],\n",
        "    [5, 6, 7, 8],\n",
        "    [9, 10, 11, 12]\n",
        "  ],\n",
        "  [\n",
        "    [13, 14, 15, 16],\n",
        "    [17, 18, 19, 20],\n",
        "    [21, 22, 23, 24]\n",
        "  ]\n",
        "]\n",
        "```\n",
        "\n",
        "\n",
        "```python\n",
        "# Выходные данные:\n",
        "[\n",
        "  [1, 2, 3, 4],\n",
        "  [5, 6, 7, 8],\n",
        "  [9, 10, 11, 12],\n",
        "  [13, 14, 15, 16],\n",
        "  [17, 18, 19, 20],\n",
        "  [21, 22, 23, 24]\n",
        "]\n",
        "```\n"
      ],
      "metadata": {
        "id": "9jZbvNPhkJ87"
      }
    },
    {
      "cell_type": "markdown",
      "source": [
        "### **Задание №2. Маскирование и фильтрация:**\n",
        "   а) Создайте массив со случайными целыми числами от -10 до 10. Затем, используя маскирование, замените все отрицательные числа на 0:\n"
      ],
      "metadata": {
        "id": "uDZ39yoRZLT9"
      }
    },
    {
      "cell_type": "code",
      "source": [
        "arr_2a = np.random.randint(-10, 11, size=(3, 4))\n",
        "print(\"Массив случайных целых чисел:\\n\", arr_2a)\n",
        "arr_2a[arr_2a < 0] = 0\n",
        "print(\"Массив после замены элементов:\\n\", arr_2a)"
      ],
      "metadata": {
        "id": "1s_ih9NSaILQ",
        "colab": {
          "base_uri": "https://localhost:8080/"
        },
        "outputId": "7cb31fa2-7013-447e-c23f-cc84a25b0200"
      },
      "execution_count": 20,
      "outputs": [
        {
          "output_type": "stream",
          "name": "stdout",
          "text": [
            "Массив случайных целых чисел:\n",
            " [[ -8  -5 -10   6]\n",
            " [  5   7  -7  -9]\n",
            " [  9   3  -6   0]]\n",
            "Массив после замены элементов:\n",
            " [[0 0 0 6]\n",
            " [5 7 0 0]\n",
            " [9 3 0 0]]\n"
          ]
        }
      ]
    },
    {
      "cell_type": "markdown",
      "source": [
        "   б) Создайте двумерный массив и найдите значения, которые больше среднего значения по всему массиву, и замените их на 1:"
      ],
      "metadata": {
        "id": "RIHVtToOZj-g"
      }
    },
    {
      "cell_type": "code",
      "source": [
        "arr_2b = np.random.randint(-10, 11, size=(3, 4))\n",
        "print(\"Массив случайных целых чисел:\\n\", arr_2b)\n",
        "mean_val_2b = np.mean(arr_2b)\n",
        "arr_2b[arr_2b > mean_val_2b] = 1\n",
        "print(\"Массив после замены элементов:\\n\", arr_2b)\n",
        "print(\"среднее значение массива:\", mean_val_2b)"
      ],
      "metadata": {
        "id": "qJYIbewpZklS",
        "colab": {
          "base_uri": "https://localhost:8080/"
        },
        "outputId": "3175cd6f-e6a3-451f-e3e8-de81704fd246"
      },
      "execution_count": 21,
      "outputs": [
        {
          "output_type": "stream",
          "name": "stdout",
          "text": [
            "Массив случайных целых чисел:\n",
            " [[-2 -9  5 -1]\n",
            " [-6 -8  2 -3]\n",
            " [ 8  1 -3  9]]\n",
            "Массив после замены элементов:\n",
            " [[-2 -9  1 -1]\n",
            " [-6 -8  1 -3]\n",
            " [ 1  1 -3  1]]\n",
            "среднее значение массива: -0.5833333333333334\n"
          ]
        }
      ]
    },
    {
      "cell_type": "markdown",
      "source": [
        "### **Задание №3. Агрегирование данных:**\n"
      ],
      "metadata": {
        "id": "jzUTb1UdZPvc"
      }
    },
    {
      "cell_type": "markdown",
      "source": [
        "   а) Создайте двумерный массив со случайными числами. Вычислите сумму, среднее, максимум и минимум по столбцам и строкам:\n"
      ],
      "metadata": {
        "id": "xncfxKXjZnQd"
      }
    },
    {
      "cell_type": "code",
      "source": [
        "arr_3a = np.random.randint(1, 31, size=(3, 3))\n",
        "print(\"Массив случайных целых чисел:\\n\", arr_3a)\n",
        "\n",
        "sum_rows = np.sum(arr_3a, axis=1)\n",
        "sum_cols = np.sum(arr_3a, axis=0)\n",
        "print(\"\\nсумма по строкам\\n\", sum_rows)\n",
        "print(\"\\nсумма по столбцам\\n\", sum_cols)\n",
        "\n",
        "mean_rows = np.mean(arr_3a, axis=1)\n",
        "mean_cols = np.mean(arr_3a, axis=0)\n",
        "print(\"\\nсреднее по строкам\\n\", mean_rows)\n",
        "print(\"\\nсреднее по столбцам\\n\", mean_cols)\n",
        "\n",
        "max_rows = np.max(arr_3a, axis=1)\n",
        "max_cols = np.max(arr_3a, axis=0)\n",
        "min_rows = np.min(arr_3a, axis=1)\n",
        "min_cols = np.min(arr_3a, axis=0)\n",
        "print(\"\\nмаксимальное значение по строкам\\n\", max_rows)\n",
        "print(\"\\nмаксимальное значение по столбцам\\n\", max_cols)\n",
        "print(\"\\nминимальное значение по строкам\\n\", min_rows)\n",
        "print(\"\\nминимальное значение по столбцам\\n\", min_cols)\n"
      ],
      "metadata": {
        "id": "Jhd__GiPZons",
        "colab": {
          "base_uri": "https://localhost:8080/"
        },
        "outputId": "4a19bce8-507c-4e66-e6b2-3abfb75c42a4"
      },
      "execution_count": 22,
      "outputs": [
        {
          "output_type": "stream",
          "name": "stdout",
          "text": [
            "Массив случайных целых чисел:\n",
            " [[29 19 21]\n",
            " [ 8 22  6]\n",
            " [15 12 22]]\n",
            "\n",
            "сумма по строкам\n",
            " [69 36 49]\n",
            "\n",
            "сумма по столбцам\n",
            " [52 53 49]\n",
            "\n",
            "среднее по строкам\n",
            " [23.         12.         16.33333333]\n",
            "\n",
            "среднее по столбцам\n",
            " [17.33333333 17.66666667 16.33333333]\n",
            "\n",
            "максимальное значение по строкам\n",
            " [29 22 22]\n",
            "\n",
            "максимальное значение по столбцам\n",
            " [29 22 22]\n",
            "\n",
            "минимальное значение по строкам\n",
            " [19  6 12]\n",
            "\n",
            "минимальное значение по столбцам\n",
            " [ 8 12  6]\n"
          ]
        }
      ]
    },
    {
      "cell_type": "markdown",
      "source": [
        "   б) Сгенерируйте массив случайных чисел и найдите дисперсию и стандартное отклонение:"
      ],
      "metadata": {
        "id": "Z1ZQ_12kZndL"
      }
    },
    {
      "cell_type": "code",
      "source": [
        "arr_3b = np.random.randint(1, 31, size=(3, 3))\n",
        "print(\"Массив случайных целых чисел:\\n\", arr_3b)\n",
        "var_val = np.var(arr_3b)\n",
        "print(\"Дисперсия:\", var_val)\n",
        "std_dev = np.std(arr_3b)\n",
        "print(\"Стандартное отклонение:\", std_dev)"
      ],
      "metadata": {
        "id": "wn7uuevpZpLX",
        "colab": {
          "base_uri": "https://localhost:8080/"
        },
        "outputId": "09d2b7b7-7285-486b-e68c-ea5ecd657b65"
      },
      "execution_count": 23,
      "outputs": [
        {
          "output_type": "stream",
          "name": "stdout",
          "text": [
            "Массив случайных целых чисел:\n",
            " [[29  1 22]\n",
            " [11  1 19]\n",
            " [16 11 11]]\n",
            "Дисперсия: 75.58024691358024\n",
            "Стандартное отклонение: 8.693690063119357\n"
          ]
        }
      ]
    },
    {
      "cell_type": "markdown",
      "source": [
        "### **Задание №4. Использование функций для работы с матрицами:**"
      ],
      "metadata": {
        "id": "2EvbQaTIZP4D"
      }
    },
    {
      "cell_type": "markdown",
      "source": [
        "   а) Используйте функцию [`np.linalg.eig`](https://numpy.org/doc/stable/reference/generated/numpy.linalg.eig.html#numpy.linalg.eig) для нахождения собственных значений и собственных векторов квадратной матрицы:"
      ],
      "metadata": {
        "id": "ag7Nzl9LZp23"
      }
    },
    {
      "cell_type": "code",
      "source": [
        "arr_4a = np.random.randint(1, 31, size=(2, 2))\n",
        "print(\"квадратная матрица:\\n\", arr_4a)\n",
        "eigenvalues, eigenvectors = np.linalg.eig(arr_4a)\n",
        "print(\"\\nEigenvalues:\", eigenvalues)\n",
        "print(\"\\nEigenvectors:\\n\", eigenvectors)"
      ],
      "metadata": {
        "id": "Cbts2xnoZqD8",
        "colab": {
          "base_uri": "https://localhost:8080/"
        },
        "outputId": "e60650b1-33bd-4b45-94e4-f222fe62b1db"
      },
      "execution_count": 24,
      "outputs": [
        {
          "output_type": "stream",
          "name": "stdout",
          "text": [
            "квадратная матрица:\n",
            " [[ 6  4]\n",
            " [13 19]]\n",
            "\n",
            "Eigenvalues: [ 2.79175608 22.20824392]\n",
            "\n",
            "Eigenvectors:\n",
            " [[-0.78008393 -0.23959951]\n",
            " [ 0.62567488 -0.97087181]]\n"
          ]
        }
      ]
    },
    {
      "cell_type": "markdown",
      "source": [
        "   б) Решите систему линейных уравнений Ax = B, используя `np.linalg.solve`, где A и B — матрицы, заданные вами:"
      ],
      "metadata": {
        "id": "MUsFnJCgZqPV"
      }
    },
    {
      "cell_type": "code",
      "source": [
        "A = np.array([[1, 5], [6, 2]])\n",
        "B = np.array([3, 5])\n",
        "x = np.linalg.solve(A, B)\n",
        "print(\"Решение Ax = b:\", x)"
      ],
      "metadata": {
        "id": "6OoOaY0CZqaP",
        "colab": {
          "base_uri": "https://localhost:8080/"
        },
        "outputId": "273f6aa8-dbd4-4211-ca03-23b7cc06312f"
      },
      "execution_count": 25,
      "outputs": [
        {
          "output_type": "stream",
          "name": "stdout",
          "text": [
            "Решение Ax = b: [0.67857143 0.46428571]\n"
          ]
        }
      ]
    },
    {
      "cell_type": "markdown",
      "source": [
        "### **Задание №5. Работа с датасетом:**"
      ],
      "metadata": {
        "id": "UNeCynnjZQCt"
      }
    },
    {
      "cell_type": "markdown",
      "source": [
        "   а) Загрузите датасет [**fetch california housing**](https://www.kaggle.com/datasets/harrywang/housing):"
      ],
      "metadata": {
        "id": "FNVx80zxZrGU"
      }
    },
    {
      "cell_type": "code",
      "source": [
        "import numpy as np\n",
        "from sklearn.datasets import fetch_california_housing\n",
        "\n",
        "dataset = fetch_california_housing().data\n",
        "dataset = np.asarray(dataset, np.float64)"
      ],
      "metadata": {
        "id": "USeYuJeTcIpN"
      },
      "execution_count": 26,
      "outputs": []
    },
    {
      "cell_type": "markdown",
      "source": [
        "б) Выведите первые 5 элементов датасета:"
      ],
      "metadata": {
        "id": "Mtk3ZvqmfCD-"
      }
    },
    {
      "cell_type": "code",
      "source": [
        "print(dataset[:5])"
      ],
      "metadata": {
        "id": "T-1eUOl7fHH1",
        "colab": {
          "base_uri": "https://localhost:8080/"
        },
        "outputId": "900dc13e-0463-4e99-abe9-ae4b332da7bb"
      },
      "execution_count": 27,
      "outputs": [
        {
          "output_type": "stream",
          "name": "stdout",
          "text": [
            "[[ 8.32520000e+00  4.10000000e+01  6.98412698e+00  1.02380952e+00\n",
            "   3.22000000e+02  2.55555556e+00  3.78800000e+01 -1.22230000e+02]\n",
            " [ 8.30140000e+00  2.10000000e+01  6.23813708e+00  9.71880492e-01\n",
            "   2.40100000e+03  2.10984183e+00  3.78600000e+01 -1.22220000e+02]\n",
            " [ 7.25740000e+00  5.20000000e+01  8.28813559e+00  1.07344633e+00\n",
            "   4.96000000e+02  2.80225989e+00  3.78500000e+01 -1.22240000e+02]\n",
            " [ 5.64310000e+00  5.20000000e+01  5.81735160e+00  1.07305936e+00\n",
            "   5.58000000e+02  2.54794521e+00  3.78500000e+01 -1.22250000e+02]\n",
            " [ 3.84620000e+00  5.20000000e+01  6.28185328e+00  1.08108108e+00\n",
            "   5.65000000e+02  2.18146718e+00  3.78500000e+01 -1.22250000e+02]]\n"
          ]
        }
      ]
    },
    {
      "cell_type": "markdown",
      "source": [
        "в) Выведите размерность датасета:"
      ],
      "metadata": {
        "id": "BLJAdC1LeJ1s"
      }
    },
    {
      "cell_type": "code",
      "source": [
        "print(\"размерность массива:\", dataset.shape)"
      ],
      "metadata": {
        "id": "s6KvaFj0cLlY",
        "colab": {
          "base_uri": "https://localhost:8080/"
        },
        "outputId": "0b615338-d76a-4ff2-ca2a-9c108e9aa5b1"
      },
      "execution_count": 28,
      "outputs": [
        {
          "output_type": "stream",
          "name": "stdout",
          "text": [
            "размерность массива: (20640, 8)\n"
          ]
        }
      ]
    },
    {
      "cell_type": "markdown",
      "source": [
        "г) Выведите общее количество элементов датасета:"
      ],
      "metadata": {
        "id": "_k_RyEbneb_u"
      }
    },
    {
      "cell_type": "code",
      "source": [
        "print(\"Количество элементов:\", dataset.size)"
      ],
      "metadata": {
        "id": "-4-6azzwcZgx",
        "colab": {
          "base_uri": "https://localhost:8080/"
        },
        "outputId": "83c6b5bb-cb90-481a-8532-8d024c21f516"
      },
      "execution_count": 29,
      "outputs": [
        {
          "output_type": "stream",
          "name": "stdout",
          "text": [
            "Количество элементов: 165120\n"
          ]
        }
      ]
    },
    {
      "cell_type": "markdown",
      "source": [
        "д) Выведите тип данных элементов датасета:"
      ],
      "metadata": {
        "id": "exMDldCMeoOu"
      }
    },
    {
      "cell_type": "code",
      "source": [
        "print(\"Тип данных элементов массива:\", dataset.dtype)"
      ],
      "metadata": {
        "id": "Re6VGlefe2mp",
        "colab": {
          "base_uri": "https://localhost:8080/"
        },
        "outputId": "f0c98822-c514-456a-ec96-759b5bc8208b"
      },
      "execution_count": 30,
      "outputs": [
        {
          "output_type": "stream",
          "name": "stdout",
          "text": [
            "Тип данных элементов массива: float64\n"
          ]
        }
      ]
    },
    {
      "cell_type": "markdown",
      "source": [
        "е) Выведите количество измерений (осей) датасета:"
      ],
      "metadata": {
        "id": "-G5DnCl5eoY4"
      }
    },
    {
      "cell_type": "code",
      "source": [
        "print(\"Количество измерений:\", dataset.ndim)"
      ],
      "metadata": {
        "id": "vzMDlJ9je2Cl",
        "colab": {
          "base_uri": "https://localhost:8080/"
        },
        "outputId": "f25b70d4-9d27-418a-a1b3-dd8273fddd0f"
      },
      "execution_count": 31,
      "outputs": [
        {
          "output_type": "stream",
          "name": "stdout",
          "text": [
            "Количество измерений: 2\n"
          ]
        }
      ]
    },
    {
      "cell_type": "markdown",
      "source": [
        "ё) Выведите общее количество байт, занимаемых элементами датасета:"
      ],
      "metadata": {
        "id": "5C4KuSG1eoiQ"
      }
    },
    {
      "cell_type": "code",
      "source": [
        "print(\"Общее количество байт:\", dataset.nbytes)"
      ],
      "metadata": {
        "id": "fJ3OCXgufujn",
        "colab": {
          "base_uri": "https://localhost:8080/"
        },
        "outputId": "e77a0661-ac1c-447a-8a2b-1d9e4e9308ad"
      },
      "execution_count": 32,
      "outputs": [
        {
          "output_type": "stream",
          "name": "stdout",
          "text": [
            "Общее количество байт: 1320960\n"
          ]
        }
      ]
    },
    {
      "cell_type": "markdown",
      "source": [
        "ж) Выведите размер одного элемента датасета в байтах:"
      ],
      "metadata": {
        "id": "Qm7a9tdCftvd"
      }
    },
    {
      "cell_type": "code",
      "source": [
        "print(\"Размер одного элемента в байтах:\", dataset.itemsize)"
      ],
      "metadata": {
        "id": "1VC6YqJIZrRb",
        "colab": {
          "base_uri": "https://localhost:8080/"
        },
        "outputId": "062045e6-7a90-4c8e-cc12-f869e4b042e7"
      },
      "execution_count": 33,
      "outputs": [
        {
          "output_type": "stream",
          "name": "stdout",
          "text": [
            "Размер одного элемента в байтах: 8\n"
          ]
        }
      ]
    },
    {
      "cell_type": "markdown",
      "source": [
        " з) Выполните нормализацию данных в **столбцах**, приведя их к диапазону от 0 до 1, написав для этого отдельную функцию, реализующую алгоритм MinMaxScaler:"
      ],
      "metadata": {
        "id": "SCKdhlineGVl"
      }
    },
    {
      "cell_type": "markdown",
      "source": [
        "Алгоритм MinMaxScaler является методом масштабирования, который линейно преобразует данные так, чтобы они помещались в заданный диапазон, обычно между 0 и 1. Это достигается путем вычитания минимального значения признака из каждого значения, а затем деления разности на размах значений (максимальное значение минус минимальное значение). Преобразование можно выразить следующей формулой:\n",
        "\n",
        "$X_{\\text{scaled}} = \\frac{X - X_{\\min}}{X_{\\max} - X_{\\min}}$\n",
        "\n",
        "Где:\n",
        "- $X$ — исходное значение признака,\n",
        "- $X_{\\min}$ — минимальное значение этого признака в наборе данных,\n",
        "- $X_{\\max}$ — максимальное значение признака в наборе данных,\n",
        "- $X_{\\text{scaled}}$ — масштабированное значение признака.\n",
        "\n",
        "Если требуется масштабировать данные в другой диапазон, например, $[a, b]$, то формула модифицируется:\n",
        "\n",
        "$X_{\\text{scaled}} = a + \\frac{(X - X_{\\min}) \\times (b - a)}{X_{\\max} - X_{\\min}}$"
      ],
      "metadata": {
        "id": "TXJTWqPOgilw"
      }
    },
    {
      "cell_type": "code",
      "source": [
        "def min_max_scaler(data):\n",
        "    min = np.min(data, axis=0)\n",
        "    max = np.max(data, axis=0)\n",
        "    normalized = (data - min) / (max - min)\n",
        "    return normalized\n",
        "normalized_dataset = min_max_scaler(dataset)\n",
        "print(\"Результаты нормализации:\\n\", normalized_dataset[:5])"
      ],
      "metadata": {
        "id": "-8jxlJozhQT3",
        "colab": {
          "base_uri": "https://localhost:8080/"
        },
        "outputId": "b9a07d04-9cf7-44bc-e88f-d1fb88045192"
      },
      "execution_count": 34,
      "outputs": [
        {
          "output_type": "stream",
          "name": "stdout",
          "text": [
            "Результаты нормализации:\n",
            " [[0.53966842 0.78431373 0.0435123  0.02046866 0.00894083 0.00149943\n",
            "  0.5674814  0.21115538]\n",
            " [0.53802706 0.39215686 0.03822395 0.01892926 0.0672104  0.00114074\n",
            "  0.565356   0.21215139]\n",
            " [0.46602805 1.         0.05275646 0.02194011 0.01381765 0.00169796\n",
            "  0.5642933  0.21015936]\n",
            " [0.35469856 1.         0.03524099 0.02192864 0.01555537 0.0014933\n",
            "  0.5642933  0.20916335]\n",
            " [0.23077613 1.         0.03853386 0.02216644 0.01575156 0.00119838\n",
            "  0.5642933  0.20916335]]\n"
          ]
        }
      ]
    },
    {
      "cell_type": "markdown",
      "source": [
        "   и) Используйте логическую индексацию для фильтрации данных по заданному условию (например, выберите все строки, где значение в определённом столбце превышает среднее значение этого столбца и выведите их значение):"
      ],
      "metadata": {
        "id": "CD6Cw3NiZrbb"
      }
    },
    {
      "cell_type": "code",
      "source": [
        "# находим среднее значение в 4 столбце\n",
        "mean = np.mean(dataset[:, 3])\n",
        "# выбираем столбцы, в которых значения средних превышает ср. значение 4-го столбца\n",
        "filtered = dataset[dataset[:, 3] > mean]\n",
        "\n",
        "# Вывод отфильтрованных данных\n",
        "print(\"Строки, где значение в первом столбце превышает среднее значение этого столбца:\\n\", filtered)"
      ],
      "metadata": {
        "id": "ycAl9a4GZrlx",
        "colab": {
          "base_uri": "https://localhost:8080/"
        },
        "outputId": "f7d9819a-289a-4c8d-b9ea-d1680cecf3e0"
      },
      "execution_count": 35,
      "outputs": [
        {
          "output_type": "stream",
          "name": "stdout",
          "text": [
            "Строки, где значение в первом столбце превышает среднее значение этого столбца:\n",
            " [[   4.0368       52.            4.76165803 ...    2.13989637\n",
            "    37.85       -122.25      ]\n",
            " [   2.0804       42.            4.29411765 ...    2.02689076\n",
            "    37.84       -122.26      ]\n",
            " [   2.6736       52.            4.         ...    1.98275862\n",
            "    37.84       -122.26      ]\n",
            " ...\n",
            " [   1.7          17.            5.20554273 ...    2.3256351\n",
            "    39.43       -121.22      ]\n",
            " [   1.8672       18.            5.32951289 ...    2.12320917\n",
            "    39.43       -121.32      ]\n",
            " [   2.3886       16.            5.25471698 ...    2.61698113\n",
            "    39.37       -121.24      ]]\n"
          ]
        }
      ]
    },
    {
      "cell_type": "markdown",
      "source": [
        "### **Задание №6. Работа с многомерными данными:**"
      ],
      "metadata": {
        "id": "VuTukXmbYwgV"
      }
    },
    {
      "cell_type": "markdown",
      "source": [
        "Создайте двумерный массив и выполните \"сглаживание\" данных, заменив каждый элемент средним значением его и соседних элементов (по сторонам и по диагонали):"
      ],
      "metadata": {
        "id": "H_dh9nV6Zsdi"
      }
    },
    {
      "cell_type": "markdown",
      "source": [
        "\n",
        "\n",
        "```\n",
        "Original Array:\n",
        "[[1 2 3]\n",
        " [4 5 6]\n",
        " [7 8 9]]\n",
        "Smoothed Array:\n",
        "[[3 3 4]\n",
        " [4 5 5]\n",
        " [6 6 7]]\n",
        "```\n",
        "\n"
      ],
      "metadata": {
        "id": "Nvf05EOZNk7T"
      }
    },
    {
      "cell_type": "code",
      "source": [
        "arr_6 = np.random.randint(1, 6, size=(2, 2))\n",
        "print(\"Исходный массив:\\n\", arr_6)\n"
      ],
      "metadata": {
        "id": "fNZ_d_pULPU0",
        "colab": {
          "base_uri": "https://localhost:8080/"
        },
        "outputId": "2e9fdfcc-e804-497f-9445-d052489b502c"
      },
      "execution_count": 36,
      "outputs": [
        {
          "output_type": "stream",
          "name": "stdout",
          "text": [
            "Исходный массив:\n",
            " [[3 3]\n",
            " [1 4]]\n"
          ]
        }
      ]
    }
  ]
}